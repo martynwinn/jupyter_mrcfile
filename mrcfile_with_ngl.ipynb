{
 "cells": [
  {
   "cell_type": "markdown",
   "metadata": {},
   "source": [
    "# Welcome to this tutorial on mrcfile and nglview"
   ]
  },
  {
   "cell_type": "markdown",
   "metadata": {},
   "source": [
    "Let us first load a coordinate file and display it.\n",
    "See http://nglviewer.org/nglview/latest/py-modindex.html for nglview documentation."
   ]
  },
  {
   "cell_type": "code",
   "execution_count": 41,
   "metadata": {},
   "outputs": [],
   "source": [
    "coordinate_file = \"../EM_testing/EMD-6455/fittedModels/PDB/5an8.ent\"\n",
    "map_file = \"../EM_testing/EMD-6455/map/emd_6455.map\""
   ]
  },
  {
   "cell_type": "code",
   "execution_count": 42,
   "metadata": {},
   "outputs": [
    {
     "data": {
      "application/vnd.jupyter.widget-view+json": {
       "model_id": "4b308e85ac5e401e8ed9d98713cd562d",
       "version_major": 2,
       "version_minor": 0
      },
      "text/plain": [
       "NGLWidget()"
      ]
     },
     "metadata": {},
     "output_type": "display_data"
    }
   ],
   "source": [
    "import nglview\n",
    "view = nglview.show_structure_file(coordinate_file)\n",
    "view\n"
   ]
  },
  {
   "cell_type": "markdown",
   "metadata": {},
   "source": [
    "We now add the cryoEM reconstruction in standard representation."
   ]
  },
  {
   "cell_type": "code",
   "execution_count": 43,
   "metadata": {},
   "outputs": [
    {
     "data": {
      "text/plain": [
       "<nglview.component.ComponentViewer at 0x7f1028077358>"
      ]
     },
     "execution_count": 43,
     "metadata": {},
     "output_type": "execute_result"
    }
   ],
   "source": [
    "view.add_component(map_file)"
   ]
  },
  {
   "cell_type": "markdown",
   "metadata": {},
   "source": [
    "We now clear this representation and add the surface as a semi-transparent mesh."
   ]
  },
  {
   "cell_type": "code",
   "execution_count": 44,
   "metadata": {},
   "outputs": [],
   "source": [
    "view.component_1.clear()\n",
    "view.component_1.add_surface(opacity=0.4, wireframe=True, color='green')"
   ]
  },
  {
   "cell_type": "markdown",
   "metadata": {},
   "source": [
    "We now use mrcfile to read in the file and manipulate it.\n",
    "See https://mrcfile.readthedocs.io/en/latest/"
   ]
  },
  {
   "cell_type": "code",
   "execution_count": 45,
   "metadata": {},
   "outputs": [
    {
     "name": "stdout",
     "output_type": "stream",
     "text": [
      "nx              : 160\n",
      "ny              : 160\n",
      "nz              : 160\n",
      "mode            : 2\n",
      "nxstart         : -16\n",
      "nystart         : -16\n",
      "nzstart         : -16\n",
      "mx              : 160\n",
      "my              : 160\n",
      "mz              : 160\n",
      "cella           : (209.59999, 209.59999, 209.59999)\n",
      "cellb           : (90., 90., 90.)\n",
      "mapc            : 1\n",
      "mapr            : 2\n",
      "maps            : 3\n",
      "dmin            : -0.05208800733089447\n",
      "dmax            : 0.09613333642482758\n",
      "dmean           : -0.00014220282901078463\n",
      "ispg            : 1\n",
      "nsymbt          : 0\n",
      "extra1          : b'\\x00\\x00\\x00\\x00\\x00\\x00\\x00\\x00'\n",
      "exttyp          : b''\n",
      "nversion        : 0\n",
      "extra2          : b'\\x00\\x00\\x00\\x00\\x00\\x00\\x00\\x00\\x00\\x00\\x00\\x00\\x00\\x00\\x00\\x00\\x00\\x00\\x00\\x00\\x00\\x00\\x00\\x00\\x00\\x00\\x00\\x00\\x00\\x00\\x00\\x00\\x00\\x00\\x00\\x00\\x00\\x00\\x00\\x00\\x00\\x00\\x00\\x00\\x00\\x00\\x00\\x00\\x00\\x00\\x00\\x00\\x00\\x00\\x00\\x00\\x00\\x00\\x00\\x00\\x00\\x00\\x00\\x00\\x00\\x00\\x00\\x00\\x00\\x00\\x00\\x00\\x00\\x00\\x00\\x00\\x00\\x00\\x00\\x00\\x00\\x00\\x00\\x00'\n",
      "origin          : (0., 0., 0.)\n",
      "map             : b'MAP '\n",
      "machst          : [68 65  0  0]\n",
      "rms             : 0.007142751943320036\n",
      "nlabl           : 1\n",
      "label           : [b'::::EMDATABANK.org::::EMD-6455::::                                              '\n",
      " b'                                                                                '\n",
      " b'                                                                                '\n",
      " b'                                                                                '\n",
      " b'                                                                                '\n",
      " b'                                                                                '\n",
      " b'                                                                                '\n",
      " b'                                                                                '\n",
      " b'                                                                                '\n",
      " b'                                                                                ']\n"
     ]
    }
   ],
   "source": [
    "import mrcfile\n",
    "mrc = mrcfile.open(map_file)\n",
    "mrc.print_header()"
   ]
  },
  {
   "cell_type": "markdown",
   "metadata": {},
   "source": [
    "We can query the header of the map file as follows.\n",
    "TODO: tidy print statement!"
   ]
  },
  {
   "cell_type": "code",
   "execution_count": 46,
   "metadata": {},
   "outputs": [
    {
     "name": "stdout",
     "output_type": "stream",
     "text": [
      "Pixel size is  1.309999942779541 A\n"
     ]
    }
   ],
   "source": [
    "pixel_size = mrc.header.cella.x / mrc.header.nx\n",
    "print('Pixel size is ',pixel_size,'A')"
   ]
  },
  {
   "cell_type": "markdown",
   "metadata": {},
   "source": [
    "Now created a new map based on a slice of the original map. Ideally we would pass this as an object to nglview but I don't see how. So we save as file, and read in again."
   ]
  },
  {
   "cell_type": "code",
   "execution_count": 55,
   "metadata": {},
   "outputs": [
    {
     "name": "stdout",
     "output_type": "stream",
     "text": [
      "(50, 50, 50)\n",
      "nx              : 50\n",
      "ny              : 50\n",
      "nz              : 50\n",
      "mode            : 2\n",
      "nxstart         : 0\n",
      "nystart         : 0\n",
      "nzstart         : 0\n",
      "mx              : 50\n",
      "my              : 50\n",
      "mz              : 50\n",
      "cella           : (0., 0., 0.)\n",
      "cellb           : (90., 90., 90.)\n",
      "mapc            : 1\n",
      "mapr            : 2\n",
      "maps            : 3\n",
      "dmin            : -0.05208800733089447\n",
      "dmax            : 0.09613333642482758\n",
      "dmean           : 0.011084322817623615\n",
      "ispg            : 1\n",
      "nsymbt          : 0\n",
      "extra1          : b'\\x00\\x00\\x00\\x00\\x00\\x00\\x00\\x00'\n",
      "exttyp          : b''\n",
      "nversion        : 20140\n",
      "extra2          : b'\\x00\\x00\\x00\\x00\\x00\\x00\\x00\\x00\\x00\\x00\\x00\\x00\\x00\\x00\\x00\\x00\\x00\\x00\\x00\\x00\\x00\\x00\\x00\\x00\\x00\\x00\\x00\\x00\\x00\\x00\\x00\\x00\\x00\\x00\\x00\\x00\\x00\\x00\\x00\\x00\\x00\\x00\\x00\\x00\\x00\\x00\\x00\\x00\\x00\\x00\\x00\\x00\\x00\\x00\\x00\\x00\\x00\\x00\\x00\\x00\\x00\\x00\\x00\\x00\\x00\\x00\\x00\\x00\\x00\\x00\\x00\\x00\\x00\\x00\\x00\\x00\\x00\\x00\\x00\\x00\\x00\\x00\\x00\\x00'\n",
      "origin          : (0., 0., 0.)\n",
      "map             : b'MAP '\n",
      "machst          : [68 68  0  0]\n",
      "rms             : 0.01842574216425419\n",
      "nlabl           : 1\n",
      "label           : [b'Created by mrcfile.py                                        2019-07-11 16:06:01'\n",
      " b'' b'' b'' b'' b'' b'' b'' b'' b'']\n"
     ]
    }
   ],
   "source": [
    "with mrcfile.new('tmp.map', overwrite=True) as mrc2:\n",
    "    new_data = mrc.data[50:100,50:100,50:100].copy(order='C')\n",
    "    print(new_data.shape)\n",
    "    mrc2.set_data(new_data)\n",
    "    mrc2.print_header()"
   ]
  },
  {
   "cell_type": "code",
   "execution_count": 56,
   "metadata": {},
   "outputs": [
    {
     "data": {
      "text/plain": [
       "<nglview.component.ComponentViewer at 0x7f102809dc50>"
      ]
     },
     "execution_count": 56,
     "metadata": {},
     "output_type": "execute_result"
    }
   ],
   "source": [
    "view.component_1.clear()\n",
    "view.add_component('tmp.map')"
   ]
  },
  {
   "cell_type": "code",
   "execution_count": null,
   "metadata": {},
   "outputs": [],
   "source": []
  }
 ],
 "metadata": {
  "kernelspec": {
   "display_name": "Python 3",
   "language": "python",
   "name": "python3"
  },
  "language_info": {
   "codemirror_mode": {
    "name": "ipython",
    "version": 3
   },
   "file_extension": ".py",
   "mimetype": "text/x-python",
   "name": "python",
   "nbconvert_exporter": "python",
   "pygments_lexer": "ipython3",
   "version": "3.6.5"
  }
 },
 "nbformat": 4,
 "nbformat_minor": 2
}
