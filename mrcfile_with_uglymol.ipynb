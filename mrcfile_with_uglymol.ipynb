{
 "cells": [
  {
   "cell_type": "code",
   "execution_count": 10,
   "metadata": {},
   "outputs": [],
   "source": [
    "from jinja2 import Environment, FileSystemLoader\n",
    "import ipywidgets as widgets\n",
    "from ipywidgets import interact, interact_manual"
   ]
  },
  {
   "cell_type": "markdown",
   "metadata": {},
   "source": [
    "jinja2 is a web template engine. We use template in devtest.html to create web page with js. \n",
    "Use ipywidgets to display?"
   ]
  },
  {
   "cell_type": "code",
   "execution_count": 31,
   "metadata": {},
   "outputs": [],
   "source": [
    "ENV = Environment(loader=FileSystemLoader('/home/mdw/workexp'))\n",
    "jinja_template = ENV.get_template('junk.html')"
   ]
  },
  {
   "cell_type": "code",
   "execution_count": 32,
   "metadata": {},
   "outputs": [
    {
     "name": "stdout",
     "output_type": "stream",
     "text": [
      "<!doctype html>\n",
      "<html lang=\"en\">\n",
      "<head>\n",
      "  <title>UglyMol</title>\n",
      "  <meta charset=\"utf-8\">\n",
      "  <meta name=\"theme-color\" content=\"#333333\">\n",
      "  <style>\n",
      "   body { font-family: sans-serif; }\n",
      "   canvas { display: block; }\n",
      "   #viewer {\n",
      "     position: absolute;\n",
      "     left: 0;\n",
      "     top: 0;\n",
      "     width: 100%;\n",
      "     height: 100%;\n",
      "   }\n",
      "   #hud {\n",
      "     font-size: 15px;\n",
      "     color: #ddd;\n",
      "     background-color: rgba(0,0,0,0.6);\n",
      "     text-align: center;\n",
      "     position: absolute;\n",
      "     top: 10px;\n",
      "     left: 50%;\n",
      "     transform: translateX(-50%);\n",
      "     padding: 2px 8px;\n",
      "     border-radius: 5px;\n",
      "     z-index: 9;\n",
      "     white-space: pre-line;\n",
      "   }\n",
      "   #hud u { padding: 0 8px; text-decoration: none;\n",
      "            border: solid; border-width: 1px 0; }\n",
      "   #hud s { padding: 0 8px; text-decoration: none; opacity: 0.5; }\n",
      "   #help {\n",
      "     display: none;\n",
      "     font-size: 16px;\n",
      "     color: #eee;\n",
      "     background-color: rgba(0,0,0,0.7);\n",
      "     position: absolute;\n",
      "     left: 20px;\n",
      "     top: 50%;\n",
      "     transform: translateY(-50%);\n",
      "     cursor: default;\n",
      "     padding: 5px;\n",
      "     border-radius: 5px;\n",
      "     z-index: 9;\n",
      "     white-space: pre-line;\n",
      "   }\n",
      "   #inset {\n",
      "     width: 200px;\n",
      "     height: 200px;\n",
      "     background-color: #888;\n",
      "     position: absolute;\n",
      "     right: 0;\n",
      "     bottom: 0;\n",
      "     z-index: 2;\n",
      "     display: none;\n",
      "   }\n",
      "   a { color: #59C; }\n",
      "  </style>\n",
      "  <script src=\"/xtal/uglymol/uglymol/uglymol.js\"></script>\n",
      "</head>\n",
      "\n",
      "<body style=\"background-color: black\">\n",
      "  <div id=\"viewer\"></div>\n",
      "  <header id=\"hud\" onmousedown=\"event.stopPropagation();\"\n",
      "                   ondblclick=\"event.stopPropagation();\"></header>\n",
      "  <footer id=\"help\"></footer>\n",
      "  <div id=\"inset\"></div>\n",
      "  <script>\n",
      "    V = new UM.Viewer({viewer: \"viewer\", hud: \"hud\", help: \"help\"});\n",
      "    V.load_pdb(\"/home/mdw/EM_testing/EMD-6455/fittedModels/PDB/5an8.ent\");\n",
      "  </script>\n",
      "</body>\n",
      "</html>\n"
     ]
    }
   ],
   "source": [
    "set_html = jinja_template.render(uglymol_loc='/xtal/uglymol/uglymol')\n",
    "print(set_html)"
   ]
  },
  {
   "cell_type": "code",
   "execution_count": 33,
   "metadata": {},
   "outputs": [
    {
     "data": {
      "application/vnd.jupyter.widget-view+json": {
       "model_id": "cfbff376f3894dd1809d6ad415508b30",
       "version_major": 2,
       "version_minor": 0
      },
      "text/plain": [
       "IntSlider(value=7)"
      ]
     },
     "metadata": {},
     "output_type": "display_data"
    },
    {
     "data": {
      "text/plain": [
       "7"
      ]
     },
     "execution_count": 33,
     "metadata": {},
     "output_type": "execute_result"
    }
   ],
   "source": [
    "#widgets.HTML(set_html)\n",
    "w = widgets.IntSlider(value=7)\n",
    "display(w)\n",
    "w.value"
   ]
  },
  {
   "cell_type": "code",
   "execution_count": 43,
   "metadata": {},
   "outputs": [
    {
     "data": {
      "application/vnd.jupyter.widget-view+json": {
       "model_id": "54e632a76a0e49a39e5e8f6dd767dc41",
       "version_major": 2,
       "version_minor": 0
      },
      "text/plain": [
       "HTML(value='<body><script>alert( \"Hello, world!\" );</script></body>')"
      ]
     },
     "metadata": {},
     "output_type": "display_data"
    },
    {
     "data": {
      "application/vnd.jupyter.widget-view+json": {
       "model_id": "44ea6102974547f19d495919e045bac7",
       "version_major": 2,
       "version_minor": 0
      },
      "text/plain": [
       "Image(value=b'\\x89PNG\\r\\n\\x1a\\n\\x00\\x00\\x00\\rIHDR\\x00\\x00\\x01\\xd4\\x00\\x00\\x01\\xc3\\x08\\x06\\x00\\x00\\x00\\x9d\\xf4\\…"
      ]
     },
     "metadata": {},
     "output_type": "display_data"
    }
   ],
   "source": [
    "w1 = widgets.HTML(\n",
    "    value='<body><script>alert( \"Hello, world!\" );</script></body>'\n",
    ")\n",
    "display(w1)\n",
    "\n",
    "file = open('/home/mdw/coot-lidia.png','rb')\n",
    "image = file.read()\n",
    "w2 = widgets.Image(value=image, format='png')\n",
    "display(w2)"
   ]
  },
  {
   "cell_type": "code",
   "execution_count": null,
   "metadata": {},
   "outputs": [],
   "source": []
  }
 ],
 "metadata": {
  "kernelspec": {
   "display_name": "Python 3",
   "language": "python",
   "name": "python3"
  },
  "language_info": {
   "codemirror_mode": {
    "name": "ipython",
    "version": 3
   },
   "file_extension": ".py",
   "mimetype": "text/x-python",
   "name": "python",
   "nbconvert_exporter": "python",
   "pygments_lexer": "ipython3",
   "version": "3.6.5"
  }
 },
 "nbformat": 4,
 "nbformat_minor": 2
}
